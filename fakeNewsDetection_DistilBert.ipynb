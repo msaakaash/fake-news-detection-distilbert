{
  "nbformat": 4,
  "nbformat_minor": 0,
  "metadata": {
    "colab": {
      "provenance": [],
      "gpuType": "T4"
    },
    "kernelspec": {
      "name": "python3",
      "display_name": "Python 3"
    },
    "language_info": {
      "name": "python"
    },
    "accelerator": "GPU"
  },
  "cells": [
    {
      "cell_type": "markdown",
      "source": [
        "# Fake News Detection Using Bert"
      ],
      "metadata": {
        "id": "WkGzJpu9l3k-"
      }
    },
    {
      "cell_type": "markdown",
      "source": [
        "## Loading Libraries"
      ],
      "metadata": {
        "id": "xCWnKPYdl8OI"
      }
    },
    {
      "cell_type": "code",
      "source": [
        "import pandas as pd\n",
        "import torch\n",
        "import torch.nn as nn\n",
        "import torch.optim as optim\n",
        "from torch.utils.data import DataLoader, Dataset, random_split\n",
        "from transformers import DistilBertTokenizer, DistilBertForSequenceClassification, AdamW, get_scheduler\n",
        "from torch.cuda.amp import autocast, GradScaler\n",
        "import matplotlib.pyplot as plt\n",
        "import time\n"
      ],
      "metadata": {
        "id": "JZq4-Tqpesay"
      },
      "execution_count": 16,
      "outputs": []
    },
    {
      "cell_type": "markdown",
      "source": [
        "## Enabling GPU (CUDA)"
      ],
      "metadata": {
        "id": "vXKP-KzSmAwR"
      }
    },
    {
      "cell_type": "code",
      "source": [
        "device = torch.device(\"cuda\" if torch.cuda.is_available() else \"cpu\")\n",
        "torch.backends.cudnn.benchmark = True"
      ],
      "metadata": {
        "id": "_lttKmXDl_YP"
      },
      "execution_count": 17,
      "outputs": []
    },
    {
      "cell_type": "markdown",
      "source": [
        "## Loading the dataset"
      ],
      "metadata": {
        "id": "d4sucCFZmHzz"
      }
    },
    {
      "cell_type": "code",
      "source": [
        "fake_df = pd.read_csv(\"Fake.csv\")\n",
        "true_df = pd.read_csv(\"True.csv\")"
      ],
      "metadata": {
        "id": "wNVFZp2tmFp6"
      },
      "execution_count": 18,
      "outputs": []
    },
    {
      "cell_type": "markdown",
      "source": [
        "## Adding Labels"
      ],
      "metadata": {
        "id": "k2gKBIOKmLmI"
      }
    },
    {
      "cell_type": "code",
      "source": [
        "fake_df[\"label\"] = 0\n",
        "true_df[\"label\"] = 1"
      ],
      "metadata": {
        "id": "gukKm-MSmKJf"
      },
      "execution_count": 19,
      "outputs": []
    },
    {
      "cell_type": "markdown",
      "source": [
        "## Merging"
      ],
      "metadata": {
        "id": "4o1IEszkmOmQ"
      }
    },
    {
      "cell_type": "code",
      "source": [
        "df = pd.concat([fake_df, true_df]).sample(frac=1).reset_index(drop=True)"
      ],
      "metadata": {
        "id": "Zq8etP3BmOES"
      },
      "execution_count": 20,
      "outputs": []
    },
    {
      "cell_type": "markdown",
      "source": [
        "## Initializing the tokenizer"
      ],
      "metadata": {
        "id": "KHlY_aZ-mSmz"
      }
    },
    {
      "cell_type": "code",
      "source": [
        "tokenizer = DistilBertTokenizer.from_pretrained(\"distilbert-base-uncased\")"
      ],
      "metadata": {
        "id": "iLy15UlvmSEq"
      },
      "execution_count": 22,
      "outputs": []
    },
    {
      "cell_type": "markdown",
      "source": [
        "## Custom Dataset Class"
      ],
      "metadata": {
        "id": "LUdVxQ_Pma5V"
      }
    },
    {
      "cell_type": "code",
      "source": [
        "class NewsDataset(Dataset):\n",
        "    def __init__(self, df, tokenizer, max_len=512):\n",
        "        self.texts = df[\"title\"] + \" \" + df[\"text\"]\n",
        "        self.labels = df[\"label\"].values\n",
        "        self.tokenizer = tokenizer\n",
        "        self.max_len = max_len\n",
        "\n",
        "    def __len__(self):\n",
        "        return len(self.labels)\n",
        "\n",
        "    def __getitem__(self, idx):\n",
        "        text = self.texts.iloc[idx]\n",
        "        label = self.labels[idx]\n",
        "        encoding = self.tokenizer(text, truncation=True, padding=\"max_length\", max_length=self.max_len, return_tensors=\"pt\")\n",
        "\n",
        "        return {\n",
        "            \"input_ids\": encoding[\"input_ids\"].squeeze(0),\n",
        "            \"attention_mask\": encoding[\"attention_mask\"].squeeze(0),\n",
        "            \"labels\": torch.tensor(label, dtype=torch.long),\n",
        "        }"
      ],
      "metadata": {
        "id": "fkPVmdVgmX0Z"
      },
      "execution_count": 23,
      "outputs": []
    },
    {
      "cell_type": "markdown",
      "source": [
        "## Dataset preparation"
      ],
      "metadata": {
        "id": "vAXy947zmfd4"
      }
    },
    {
      "cell_type": "code",
      "source": [
        "dataset = NewsDataset(df, tokenizer)\n",
        "train_size = int(0.8 * len(dataset))\n",
        "test_size = len(dataset) - train_size\n",
        "train_dataset, test_dataset = random_split(dataset, [train_size, test_size])"
      ],
      "metadata": {
        "id": "QackbJGUmepl"
      },
      "execution_count": 24,
      "outputs": []
    },
    {
      "cell_type": "markdown",
      "source": [
        "## Creating Dataloaders"
      ],
      "metadata": {
        "id": "wujc5-xImla0"
      }
    },
    {
      "cell_type": "code",
      "source": [
        "train_loader = DataLoader(train_dataset, batch_size=16, shuffle=True, num_workers=4, pin_memory=True)\n",
        "test_loader = DataLoader(test_dataset, batch_size=16, shuffle=False, num_workers=4, pin_memory=True)"
      ],
      "metadata": {
        "colab": {
          "base_uri": "https://localhost:8080/"
        },
        "id": "zUmCC2dsmjsn",
        "outputId": "a4abfa04-f0fd-4d55-c3c4-33a8f51368dd"
      },
      "execution_count": 25,
      "outputs": [
        {
          "output_type": "stream",
          "name": "stderr",
          "text": [
            "/usr/local/lib/python3.11/dist-packages/torch/utils/data/dataloader.py:617: UserWarning: This DataLoader will create 4 worker processes in total. Our suggested max number of worker in current system is 2, which is smaller than what this DataLoader is going to create. Please be aware that excessive worker creation might get DataLoader running slow or even freeze, lower the worker number to avoid potential slowness/freeze if necessary.\n",
            "  warnings.warn(\n"
          ]
        }
      ]
    },
    {
      "cell_type": "markdown",
      "source": [
        "## Load the pretrained model"
      ],
      "metadata": {
        "id": "HrqTYuL8mon6"
      }
    },
    {
      "cell_type": "code",
      "source": [
        "model = DistilBertForSequenceClassification.from_pretrained(\"distilbert-base-uncased\", num_labels=2).to(device)"
      ],
      "metadata": {
        "colab": {
          "base_uri": "https://localhost:8080/"
        },
        "id": "ADqemyyZmnzE",
        "outputId": "6b4f9056-9ec3-4451-91da-16d22b9766bc"
      },
      "execution_count": 26,
      "outputs": [
        {
          "output_type": "stream",
          "name": "stderr",
          "text": [
            "Some weights of DistilBertForSequenceClassification were not initialized from the model checkpoint at distilbert-base-uncased and are newly initialized: ['classifier.bias', 'classifier.weight', 'pre_classifier.bias', 'pre_classifier.weight']\n",
            "You should probably TRAIN this model on a down-stream task to be able to use it for predictions and inference.\n"
          ]
        }
      ]
    },
    {
      "cell_type": "markdown",
      "source": [
        "## Defining Optimizers and Scheduler"
      ],
      "metadata": {
        "id": "n-mcSiyDmv1l"
      }
    },
    {
      "cell_type": "code",
      "source": [
        "optimizer = AdamW(model.parameters(), lr=5e-5)\n",
        "num_training_steps = len(train_loader) * 3  # 3 epochs\n",
        "lr_scheduler = get_scheduler(\"linear\", optimizer=optimizer, num_warmup_steps=0, num_training_steps=num_training_steps)"
      ],
      "metadata": {
        "colab": {
          "base_uri": "https://localhost:8080/"
        },
        "id": "I6Qdq78amuDX",
        "outputId": "a4cb4875-950e-432f-fbe1-183d93f3532c"
      },
      "execution_count": 28,
      "outputs": [
        {
          "output_type": "stream",
          "name": "stderr",
          "text": [
            "/usr/local/lib/python3.11/dist-packages/transformers/optimization.py:591: FutureWarning: This implementation of AdamW is deprecated and will be removed in a future version. Use the PyTorch implementation torch.optim.AdamW instead, or set `no_deprecation_warning=True` to disable this warning\n",
            "  warnings.warn(\n"
          ]
        }
      ]
    },
    {
      "cell_type": "markdown",
      "source": [
        "## Loss function"
      ],
      "metadata": {
        "id": "W0CJ19qWm4Uz"
      }
    },
    {
      "cell_type": "code",
      "source": [
        "loss_fn = nn.CrossEntropyLoss()"
      ],
      "metadata": {
        "id": "YQBv5O5fmzbm"
      },
      "execution_count": 29,
      "outputs": []
    },
    {
      "cell_type": "markdown",
      "source": [
        "## Setting up Mixed Precision Training (AMP)"
      ],
      "metadata": {
        "id": "0ZfLKPtGm9Fr"
      }
    },
    {
      "cell_type": "code",
      "source": [
        "scaler = GradScaler()\n",
        "gradient_accumulation_steps = 2"
      ],
      "metadata": {
        "colab": {
          "base_uri": "https://localhost:8080/"
        },
        "id": "aYPk9wt3m7K5",
        "outputId": "e37d127f-c39a-4794-9e0f-7028f42686e8"
      },
      "execution_count": 30,
      "outputs": [
        {
          "output_type": "stream",
          "name": "stderr",
          "text": [
            "<ipython-input-30-5a3b1caa1b37>:1: FutureWarning: `torch.cuda.amp.GradScaler(args...)` is deprecated. Please use `torch.amp.GradScaler('cuda', args...)` instead.\n",
            "  scaler = GradScaler()\n"
          ]
        }
      ]
    },
    {
      "cell_type": "markdown",
      "source": [
        "## Training"
      ],
      "metadata": {
        "id": "_oUTLMBNnEHg"
      }
    },
    {
      "cell_type": "code",
      "source": [
        "epochs = 3\n",
        "start_time = time.time()\n",
        "train_losses = []"
      ],
      "metadata": {
        "id": "eR-Jp-FenChh"
      },
      "execution_count": 31,
      "outputs": []
    },
    {
      "cell_type": "code",
      "source": [
        "def evaluate(model, test_loader):\n",
        "    model.eval()\n",
        "    correct = 0\n",
        "    total = 0\n",
        "    total_loss = 0\n",
        "    with torch.no_grad():\n",
        "        for batch in test_loader:\n",
        "            batch = {key: val.to(device) for key, val in batch.items()}\n",
        "            with autocast():\n",
        "                outputs = model(input_ids=batch[\"input_ids\"], attention_mask=batch[\"attention_mask\"], labels=batch[\"labels\"])\n",
        "                loss = outputs.loss\n",
        "            total_loss += loss.item()\n",
        "            preds = torch.argmax(outputs.logits, dim=1)\n",
        "            correct += (preds == batch[\"labels\"]).sum().item()\n",
        "            total += batch[\"labels\"].size(0)\n",
        "    return total_loss / len(test_loader), correct / total * 100\n",
        "\n",
        "accuracies = []"
      ],
      "metadata": {
        "id": "M8YDI3OXnGWh"
      },
      "execution_count": 32,
      "outputs": []
    },
    {
      "cell_type": "code",
      "source": [
        "for epoch in range(epochs):\n",
        "    model.train()\n",
        "    total_loss = 0\n",
        "    for step, batch in enumerate(train_loader):\n",
        "        batch = {key: val.to(device) for key, val in batch.items()}\n",
        "        optimizer.zero_grad()\n",
        "        with autocast():\n",
        "            outputs = model(input_ids=batch[\"input_ids\"], attention_mask=batch[\"attention_mask\"], labels=batch[\"labels\"])\n",
        "            loss = outputs.loss / gradient_accumulation_steps\n",
        "        scaler.scale(loss).backward()\n",
        "        if (step + 1) % gradient_accumulation_steps == 0:\n",
        "            scaler.step(optimizer)\n",
        "            scaler.update()\n",
        "            lr_scheduler.step()\n",
        "        total_loss += loss.item()\n",
        "    avg_loss = total_loss / len(train_loader)\n",
        "    train_losses.append(avg_loss)\n",
        "    test_loss, test_acc = evaluate(model, test_loader)\n",
        "    accuracies.append(test_acc)\n",
        "    print(f\"Epoch {epoch + 1}: Train Loss = {avg_loss:.4f}, Test Accuracy = {test_acc:.2f}%\")\n"
      ],
      "metadata": {
        "colab": {
          "base_uri": "https://localhost:8080/"
        },
        "id": "-UtBi95ynOzU",
        "outputId": "eeed2704-1e9d-4c8e-ad19-6db75eaf31ed"
      },
      "execution_count": 33,
      "outputs": [
        {
          "output_type": "stream",
          "name": "stderr",
          "text": [
            "<ipython-input-33-375077c456ea>:7: FutureWarning: `torch.cuda.amp.autocast(args...)` is deprecated. Please use `torch.amp.autocast('cuda', args...)` instead.\n",
            "  with autocast():\n",
            "<ipython-input-32-497b87b039f7>:9: FutureWarning: `torch.cuda.amp.autocast(args...)` is deprecated. Please use `torch.amp.autocast('cuda', args...)` instead.\n",
            "  with autocast():\n"
          ]
        },
        {
          "output_type": "stream",
          "name": "stdout",
          "text": [
            "Epoch 1: Train Loss = 0.0086, Test Accuracy = 99.96%\n",
            "Epoch 2: Train Loss = 0.0023, Test Accuracy = 99.94%\n",
            "Epoch 3: Train Loss = 0.0004, Test Accuracy = 99.97%\n"
          ]
        }
      ]
    },
    {
      "cell_type": "markdown",
      "source": [
        "## Saving the model"
      ],
      "metadata": {
        "id": "hZ11m7tVnTHL"
      }
    },
    {
      "cell_type": "code",
      "source": [
        "model.save_pretrained(\"fake_news_model\")\n",
        "tokenizer.save_pretrained(\"fake_news_model\")"
      ],
      "metadata": {
        "colab": {
          "base_uri": "https://localhost:8080/"
        },
        "id": "DlbvpvSunR05",
        "outputId": "6aba7b5b-d76b-4879-aaf2-d636a577f8e2"
      },
      "execution_count": 34,
      "outputs": [
        {
          "output_type": "execute_result",
          "data": {
            "text/plain": [
              "('fake_news_model/tokenizer_config.json',\n",
              " 'fake_news_model/special_tokens_map.json',\n",
              " 'fake_news_model/vocab.txt',\n",
              " 'fake_news_model/added_tokens.json')"
            ]
          },
          "metadata": {},
          "execution_count": 34
        }
      ]
    },
    {
      "cell_type": "markdown",
      "source": [
        "## Plotting"
      ],
      "metadata": {
        "id": "4q6qm9ChnXQe"
      }
    },
    {
      "cell_type": "code",
      "source": [
        "plt.figure(figsize=(8, 5))\n",
        "plt.plot(range(1, epochs + 1), accuracies, marker='o', linestyle='-', label='Accuracy')\n",
        "plt.xlabel('Epochs')\n",
        "plt.ylabel('Accuracy (%)')\n",
        "plt.title('Epoch vs Accuracy')\n",
        "plt.legend()\n",
        "plt.grid()\n",
        "plt.show()"
      ],
      "metadata": {
        "colab": {
          "base_uri": "https://localhost:8080/",
          "height": 487
        },
        "id": "DClmgZ-qnX8R",
        "outputId": "5133887b-30f8-415d-9334-2d759361f6ec"
      },
      "execution_count": 35,
      "outputs": [
        {
          "output_type": "display_data",
          "data": {
            "text/plain": [
              "<Figure size 800x500 with 1 Axes>"
            ],
            "image/png": "[encoded data removed]"
          },
          "metadata": {}
        }
      ]
    },
    {
      "cell_type": "markdown",
      "source": [
        "## Inference Function"
      ],
      "metadata": {
        "id": "mRK5_I0InbTp"
      }
    },
    {
      "cell_type": "code",
      "source": [
        "def predict(text):\n",
        "    model.eval()\n",
        "    inputs = tokenizer(text, truncation=True, padding=\"max_length\", max_length=512, return_tensors=\"pt\").to(device)\n",
        "    with torch.no_grad():\n",
        "        outputs = model(**inputs)\n",
        "        pred = torch.argmax(outputs.logits, dim=1).item()\n",
        "    return \"Fake News\" if pred == 0 else \"True News\""
      ],
      "metadata": {
        "id": "UxZyx3AdndmD"
      },
      "execution_count": 36,
      "outputs": []
    },
    {
      "cell_type": "markdown",
      "source": [
        "## Example Prediction"
      ],
      "metadata": {
        "id": "jI0AyqEjnfPP"
      }
    },
    {
      "cell_type": "code",
      "source": [
        "print(predict(\"Breaking: Scientists discover a new element on Mars!\"))"
      ],
      "metadata": {
        "colab": {
          "base_uri": "https://localhost:8080/"
        },
        "id": "emdv4vJEnhXn",
        "outputId": "53b5ddd0-74a7-4adf-eb73-b5b0d3684f0a"
      },
      "execution_count": 37,
      "outputs": [
        {
          "output_type": "stream",
          "name": "stdout",
          "text": [
            "Fake News\n"
          ]
        }
      ]
    }
  ]
}